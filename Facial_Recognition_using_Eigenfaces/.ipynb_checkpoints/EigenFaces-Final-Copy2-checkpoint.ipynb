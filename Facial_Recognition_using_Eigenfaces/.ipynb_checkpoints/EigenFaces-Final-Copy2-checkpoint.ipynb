{
 "cells": [
  {
   "cell_type": "code",
   "execution_count": 3,
   "metadata": {},
   "outputs": [],
   "source": [
    "import cv2\n",
    "from numpy import *\n",
    "import os"
   ]
  },
  {
   "cell_type": "code",
   "execution_count": 2,
   "metadata": {},
   "outputs": [],
   "source": [
    "#Convert the entire dataset to .jpg format. \n",
    "    "
   ]
  },
  {
   "cell_type": "code",
   "execution_count": null,
   "metadata": {},
   "outputs": [],
   "source": []
  },
  {
   "cell_type": "code",
   "execution_count": 4,
   "metadata": {},
   "outputs": [],
   "source": [
    "def normalize(eig_vec): \n",
    "    norm = linalg.norm(eig_vec)\n",
    "    return eig_vec/norm"
   ]
  },
  {
   "cell_type": "code",
   "execution_count": 5,
   "metadata": {},
   "outputs": [
    {
     "data": {
      "text/plain": [
       "-1"
      ]
     },
     "execution_count": 5,
     "metadata": {},
     "output_type": "execute_result"
    }
   ],
   "source": [
    "test = cv2.imread('C:\\\\Users\\\\Abhinav\\\\Desktop\\\\Probability_Assignment\\\\training\\\\test\\\\1.pgm',-1)\n",
    "cv2.imshow('test',test)\n",
    "cv2.waitKey(0)"
   ]
  },
  {
   "cell_type": "code",
   "execution_count": null,
   "metadata": {},
   "outputs": [],
   "source": [
    "\n"
   ]
  },
  {
   "cell_type": "code",
   "execution_count": null,
   "metadata": {},
   "outputs": [],
   "source": []
  },
  {
   "cell_type": "code",
   "execution_count": null,
   "metadata": {},
   "outputs": [],
   "source": []
  },
  {
   "cell_type": "code",
   "execution_count": 8,
   "metadata": {},
   "outputs": [],
   "source": [
    "def TrainingImages(p,n):\n",
    "    images = []\n",
    "    for i in range(p):\n",
    "        images.append([])\n",
    "        filenames = os.listdir('teach\\\\yaleB0'+str(i+1))\n",
    "        for j in range(len(filenames)): \n",
    "            img = cv2.imread('teach\\\\yaleB0'+str(i+1)+'\\\\'+filenames[j],0)\n",
    "            img = img.reshape(img.shape[0]*img.shape[1])\n",
    "            images[i].append(img)\n",
    "    return images\n",
    "    \n",
    "    \n",
    "\n"
   ]
  },
  {
   "cell_type": "code",
   "execution_count": 9,
   "metadata": {},
   "outputs": [],
   "source": [
    "def TestingImages(p,n):\n",
    "    images = []\n",
    "    for i in range(p):\n",
    "        images.append([])\n",
    "        filenames = os.listdir('test\\\\yaleB0'+str(i+1))\n",
    "        for j in range(len(filenames)): \n",
    "            \n",
    "            img = cv2.imread('test\\\\yaleB0'+str(i+1)+'\\\\'+filenames[j],0)\n",
    "            img = img.reshape(img.shape[0]*img.shape[1])\n",
    "            images[i].append(img)\n",
    "    return images"
   ]
  },
  {
   "cell_type": "code",
   "execution_count": null,
   "metadata": {},
   "outputs": [],
   "source": []
  },
  {
   "cell_type": "code",
   "execution_count": 10,
   "metadata": {},
   "outputs": [],
   "source": [
    "def meanface(images,p,n): \n",
    "    rows = shape(images[0][0])[0]\n",
    "    mean = zeros(rows,dtype = 'float64')\n",
    "    for i in range(p):\n",
    "        for j in range(n):\n",
    "            mean = mean + images[i][j]\n",
    "            \n",
    "    mean = mean/(p*n)\n",
    "    mean = asarray(mean) \n",
    "    return mean"
   ]
  },
  {
   "cell_type": "code",
   "execution_count": 11,
   "metadata": {},
   "outputs": [],
   "source": [
    "def calculate_norm(a,b): \n",
    "    return linalg.norm(a-b)\n"
   ]
  },
  {
   "cell_type": "code",
   "execution_count": 12,
   "metadata": {},
   "outputs": [],
   "source": [
    "def variance_mat(mean,images,p,n): \n",
    "    rows= shape(images[0][0])[0]\n",
    "    var_mat = zeros([rows,p*n],dtype = 'float64')\n",
    "    var = []\n",
    "    for i in range(p):\n",
    "        for j in range(n):\n",
    "            var.append(asarray(images[i][j])-mean)\n",
    "        \n",
    "    #Now we create the variance matrix from this information \n",
    "    for i in range(p*n): \n",
    "        var_mat[:,i] = asarray(var[i]).T\n",
    "    \n",
    "    return var_mat,var\n",
    "    "
   ]
  },
  {
   "cell_type": "code",
   "execution_count": null,
   "metadata": {},
   "outputs": [],
   "source": []
  },
  {
   "cell_type": "code",
   "execution_count": null,
   "metadata": {},
   "outputs": [],
   "source": []
  },
  {
   "cell_type": "code",
   "execution_count": 13,
   "metadata": {},
   "outputs": [],
   "source": [
    "def normalize_mat(mat): \n",
    "    normalized = []\n",
    "    for i in mat: \n",
    "        normalized.append(normalize(i))\n",
    "    return normalized\n",
    "    "
   ]
  },
  {
   "cell_type": "code",
   "execution_count": 14,
   "metadata": {},
   "outputs": [],
   "source": [
    "def weights(normalized,p,n,var): \n",
    "    weight_no = len(normalized)\n",
    "    weight = zeros([p*n,weight_no])\n",
    "    for i in range(p*n): \n",
    "        vara = var[i]\n",
    "        for j in range(len(normalized)):\n",
    "            weight[i,j]  = dot(vara,normalized[j])\n",
    "    return weight\n",
    "        "
   ]
  },
  {
   "cell_type": "code",
   "execution_count": 15,
   "metadata": {},
   "outputs": [
    {
     "ename": "NameError",
     "evalue": "name 'var_mat' is not defined",
     "output_type": "error",
     "traceback": [
      "\u001b[1;31m---------------------------------------------------------------------------\u001b[0m",
      "\u001b[1;31mNameError\u001b[0m                                 Traceback (most recent call last)",
      "\u001b[1;32m<ipython-input-15-ddafab3e3769>\u001b[0m in \u001b[0;36m<module>\u001b[1;34m()\u001b[0m\n\u001b[1;32m----> 1\u001b[1;33m \u001b[0mdot\u001b[0m\u001b[1;33m(\u001b[0m\u001b[0mvar_mat\u001b[0m\u001b[1;33m.\u001b[0m\u001b[0mT\u001b[0m\u001b[1;33m,\u001b[0m\u001b[0mvar_mat\u001b[0m\u001b[1;33m)\u001b[0m\u001b[1;33m\u001b[0m\u001b[0m\n\u001b[0m",
      "\u001b[1;31mNameError\u001b[0m: name 'var_mat' is not defined"
     ]
    }
   ],
   "source": [
    "dot(var_mat.T,var_mat)\n"
   ]
  },
  {
   "cell_type": "code",
   "execution_count": null,
   "metadata": {},
   "outputs": [],
   "source": [
    "##Training of the Images\n",
    "p = 9\n",
    "n = 40\n",
    "images = TrainingImages(p,n)\n",
    "mean = meanface(images,p,n)\n",
    "var_mat,var = variance_mat(mean, images,p,n)\n",
    "covariance = dot(var_mat.T,var_mat)\n",
    "\n",
    "eigval, eigvec = linalg.eig(covariance)\n",
    "eigvec_final = ((dot(var_mat,eigvec.T)).T)\n",
    "\n",
    "normalized = normalize_mat(eigvec_final)\n",
    "weight = weights(normalized,p,n,var)\n",
    "\n",
    "weight_norm = zeros([9,shape(normalized)[1]])\n",
    "for i in range(9): \n",
    "    weight_norm[i] = sum([weight[i:i+n,:]])/n\n",
    "    \n",
    "\n",
    "\n",
    "\n"
   ]
  },
  {
   "cell_type": "code",
   "execution_count": null,
   "metadata": {},
   "outputs": [],
   "source": [
    "weight[1:3]"
   ]
  },
  {
   "cell_type": "code",
   "execution_count": 146,
   "metadata": {},
   "outputs": [
    {
     "data": {
      "text/plain": [
       "[array([0.18257419, 0.36514837, 0.54772256, 0.73029674]),\n",
       " array([0.37904902, 0.45485883, 0.53066863, 0.60647843]),\n",
       " array([0.50257071, 0.57436653, 0.64616234, 0.        ])]"
      ]
     },
     "execution_count": 146,
     "metadata": {},
     "output_type": "execute_result"
    }
   ],
   "source": [
    "def meanweight(weight,p,n): \n",
    "    weight_norm = zeros([p,shape(weight)[1]])\n",
    "    for i in range(9): \n",
    "        weight_norm[i] = sum(weight[i:i+n,:])"
   ]
  },
  {
   "cell_type": "code",
   "execution_count": 149,
   "metadata": {},
   "outputs": [
    {
     "name": "stdout",
     "output_type": "stream",
     "text": [
      "6 0 0\n",
      "3 0 1\n",
      "6 0 2\n",
      "7 0 3\n",
      "6 0 4\n",
      "6 0 5\n",
      "6 0 6\n",
      "6 0 7\n",
      "6 0 8\n",
      "6 1 1\n",
      "6 1 2\n",
      "6 1 3\n"
     ]
    },
    {
     "ename": "IndexError",
     "evalue": "list index out of range",
     "output_type": "error",
     "traceback": [
      "\u001b[1;31m---------------------------------------------------------------------------\u001b[0m",
      "\u001b[1;31mIndexError\u001b[0m                                Traceback (most recent call last)",
      "\u001b[1;32m<ipython-input-149-49eec1a0cba4>\u001b[0m in \u001b[0;36m<module>\u001b[1;34m()\u001b[0m\n\u001b[0;32m      9\u001b[0m \u001b[1;32mfor\u001b[0m \u001b[0mi\u001b[0m \u001b[1;32min\u001b[0m \u001b[0mrange\u001b[0m\u001b[1;33m(\u001b[0m\u001b[0mptest\u001b[0m\u001b[1;33m)\u001b[0m\u001b[1;33m:\u001b[0m\u001b[1;33m\u001b[0m\u001b[0m\n\u001b[0;32m     10\u001b[0m     \u001b[1;32mfor\u001b[0m \u001b[0mj\u001b[0m \u001b[1;32min\u001b[0m \u001b[0mrange\u001b[0m\u001b[1;33m(\u001b[0m\u001b[0mntest\u001b[0m\u001b[1;33m)\u001b[0m\u001b[1;33m:\u001b[0m\u001b[1;33m\u001b[0m\u001b[0m\n\u001b[1;32m---> 11\u001b[1;33m         \u001b[0mvart\u001b[0m \u001b[1;33m=\u001b[0m \u001b[0mtest_images\u001b[0m\u001b[1;33m[\u001b[0m\u001b[0mi\u001b[0m\u001b[1;33m]\u001b[0m\u001b[1;33m[\u001b[0m\u001b[0mj\u001b[0m\u001b[1;33m]\u001b[0m\u001b[1;33m-\u001b[0m\u001b[0mmean\u001b[0m\u001b[1;33m\u001b[0m\u001b[0m\n\u001b[0m\u001b[0;32m     12\u001b[0m         \u001b[0mwtest\u001b[0m \u001b[1;33m=\u001b[0m \u001b[0mzeros\u001b[0m\u001b[1;33m(\u001b[0m\u001b[1;33m[\u001b[0m\u001b[0mp\u001b[0m\u001b[1;33m*\u001b[0m\u001b[0mn\u001b[0m\u001b[1;33m]\u001b[0m\u001b[1;33m)\u001b[0m\u001b[1;33m\u001b[0m\u001b[0m\n\u001b[0;32m     13\u001b[0m         \u001b[1;32mfor\u001b[0m \u001b[0mk\u001b[0m \u001b[1;32min\u001b[0m \u001b[0mrange\u001b[0m\u001b[1;33m(\u001b[0m\u001b[0mlen\u001b[0m\u001b[1;33m(\u001b[0m\u001b[0mnormalized\u001b[0m\u001b[1;33m)\u001b[0m\u001b[1;33m)\u001b[0m\u001b[1;33m:\u001b[0m\u001b[1;33m\u001b[0m\u001b[0m\n",
      "\u001b[1;31mIndexError\u001b[0m: list index out of range"
     ]
    }
   ],
   "source": [
    "#An accuracy of 80% is obtained for other values.\n",
    "##Testing of the Images.\n",
    "#Obtaining the testing images. \n",
    "#Checking the accuracy of the prediction also. \n",
    "ptest = 2\n",
    "ntest = 6\n",
    "test_images  = TestingImages(ptest,ntest)\n",
    "correct_matches = 0.\n",
    "for i in range(ptest): \n",
    "    for j in range(ntest): \n",
    "        vart = test_images[i][j]-mean\n",
    "        wtest = zeros([p*n])\n",
    "        for k in range(len(normalized)):\n",
    "            wtest[k] = dot(normalized[k],vart)\n",
    "        \n",
    "       \n",
    "        \n",
    "        for m in range(len(weight)):\n",
    "            val = calculate_norm(wtest,weight[m])\n",
    "           \n",
    "            if(val<mini): \n",
    "                mini = val\n",
    "                loc = m\n",
    "            \n",
    "       \n",
    "        prediction = loc//n+1\n",
    "        \n",
    "        correct = i+1\n",
    "        if(prediction==correct):\n",
    "            correct_matches+=1\n",
    "        else: \n",
    "            print prediction, i,j\n",
    "\n",
    "\n",
    "print (correct_matches)/(ptest*ntest)\n",
    "\n",
    "\n",
    "        \n",
    "                \n",
    "            \n",
    "    \n",
    "            \n",
    "        "
   ]
  },
  {
   "cell_type": "code",
   "execution_count": 135,
   "metadata": {},
   "outputs": [],
   "source": [
    "test_images[0][0]-mean\n",
    "wtest = zeros([p*n])\n",
    "for k in range(len(normalized)):\n",
    "    wtest[k] = dot(normalized[k],vart)\n",
    "wtest = normalize(wtest)\n"
   ]
  },
  {
   "cell_type": "code",
   "execution_count": 136,
   "metadata": {},
   "outputs": [
    {
     "name": "stdout",
     "output_type": "stream",
     "text": [
      "0 105454.34728201856\n",
      "1 93828.6134966256\n",
      "2 76527.27485417084\n",
      "3 62317.976782334066\n",
      "4 24700.694600157207\n",
      "123 18198.16798974862\n",
      "125 14657.703479488837\n"
     ]
    }
   ],
   "source": [
    "mini = 500000000000\n",
    "loc = 0\n",
    "for m in range(len(weight)):\n",
    "    val = calculate_norm(wtest,weight[m])\n",
    "           \n",
    "    if(val<mini): \n",
    "        mini = val\n",
    "        loc = m\n",
    "        print loc,mini\n",
    "            "
   ]
  },
  {
   "cell_type": "code",
   "execution_count": 130,
   "metadata": {},
   "outputs": [
    {
     "data": {
      "text/plain": [
       "79"
      ]
     },
     "execution_count": 130,
     "metadata": {},
     "output_type": "execute_result"
    }
   ],
   "source": []
  },
  {
   "cell_type": "code",
   "execution_count": 124,
   "metadata": {},
   "outputs": [
    {
     "data": {
      "text/plain": [
       "3.7416573867739413"
      ]
     },
     "execution_count": 124,
     "metadata": {},
     "output_type": "execute_result"
    }
   ],
   "source": [
    "\n",
    "a = array([1,2,3,4])\n",
    "b = 1\n",
    "calculate_norm(a,b)"
   ]
  },
  {
   "cell_type": "code",
   "execution_count": null,
   "metadata": {},
   "outputs": [],
   "source": [
    "for m in range(len(weight)):\n",
    "            val = calculate_norm(wtest,weight[m])\n",
    "           \n",
    "            if(val<mini): \n",
    "                mini = val\n",
    "                loc = m\n",
    "            \n",
    "       \n",
    "        prediction = loc//n+1\n"
   ]
  },
  {
   "cell_type": "code",
   "execution_count": null,
   "metadata": {},
   "outputs": [],
   "source": []
  },
  {
   "cell_type": "code",
   "execution_count": 107,
   "metadata": {},
   "outputs": [
    {
     "data": {
      "text/plain": [
       "array([ 13.6       ,  12.15      ,  13.31111111, ..., -24.80833333,\n",
       "       -22.69444444, -22.36944444])"
      ]
     },
     "execution_count": 107,
     "metadata": {},
     "output_type": "execute_result"
    }
   ],
   "source": [
    "images[0][0]-mean"
   ]
  },
  {
   "cell_type": "code",
   "execution_count": 323,
   "metadata": {},
   "outputs": [],
   "source": [
    "wtest = zeros(p*n)\n",
    "for k in range(len(normalized)):\n",
    "        wtest[k] = dot(normalized[k],vart)\n",
    "        "
   ]
  },
  {
   "cell_type": "code",
   "execution_count": 128,
   "metadata": {},
   "outputs": [
    {
     "data": {
      "text/plain": [
       "(32256,)"
      ]
     },
     "execution_count": 128,
     "metadata": {},
     "output_type": "execute_result"
    }
   ],
   "source": []
  },
  {
   "cell_type": "code",
   "execution_count": 326,
   "metadata": {},
   "outputs": [
    {
     "name": "stdout",
     "output_type": "stream",
     "text": [
      "12375.308146144711\n",
      "14840.639876834688\n",
      "89498.36376476854\n",
      "11676.619633983142\n",
      "27361.912217216475\n",
      "15907.77056036825\n",
      "14111.871779841207\n",
      "22220.484477110753\n",
      "17973.1990139299\n",
      "17267.11411887146\n",
      "20215.75243733856\n",
      "22102.251747669015\n",
      "46513.00196802391\n",
      "31695.521807585174\n",
      "35842.77473261774\n",
      "36942.41226165827\n",
      "47952.455246959995\n",
      "43416.003074321095\n",
      "52682.972803494515\n",
      "66336.90596381406\n",
      "61272.73403906875\n",
      "66966.75968654477\n",
      "73108.17750600533\n",
      "69595.5916124169\n",
      "75269.61191498087\n",
      "78325.82149319207\n",
      "79115.12910951614\n",
      "84550.81801756701\n",
      "88465.79867116774\n",
      "87773.47027779237\n",
      "89714.86360970383\n",
      "89207.39675003287\n",
      "93939.04994820528\n",
      "92832.92501421338\n",
      "0.0\n",
      "19132.85026703323\n",
      "13925.99152832675\n",
      "11518.286976169516\n",
      "26420.605136685437\n",
      "29089.477838346833\n",
      "19071.964738565704\n",
      "15565.783419348809\n",
      "86471.95076698612\n",
      "18246.23980771705\n",
      "26368.17140280438\n",
      "23679.49921964293\n",
      "22424.152450519345\n",
      "29072.758577371707\n",
      "21531.40447984219\n",
      "21858.716283193196\n",
      "23596.77948584234\n",
      "52921.41999364852\n",
      "40697.384018267985\n",
      "39426.705967510905\n",
      "34596.3403385813\n",
      "35248.33326910592\n",
      "46325.01331078695\n",
      "37445.02146370266\n",
      "46678.093716864576\n",
      "61255.52632875816\n",
      "56572.22675953058\n",
      "62821.54455598612\n",
      "71402.5074841372\n",
      "65921.21660802202\n",
      "74713.44656796615\n",
      "78901.68929467484\n",
      "79005.38455553878\n",
      "101132.73081627533\n",
      "89451.08788153883\n",
      "87432.86676904639\n",
      "84473.97520278017\n",
      "91203.05854328182\n",
      "94418.50999375913\n",
      "92770.07831454092\n",
      "13249.748417540817\n",
      "27844.467004167953\n",
      "22795.88177593312\n",
      "18204.718687405777\n",
      "27942.187608002794\n",
      "32324.590431699078\n",
      "21651.7679843464\n",
      "17341.39426985639\n",
      "93508.5370214074\n",
      "19893.71475830615\n",
      "17071.244050561538\n",
      "28406.074882090426\n",
      "29465.585477236447\n",
      "38725.84286457564\n",
      "23395.38429108414\n",
      "23441.056575229086\n",
      "25853.656319614092\n",
      "24699.22847710808\n",
      "36528.64675915055\n",
      "26248.918842509953\n",
      "42840.35139648016\n",
      "46873.93703306698\n",
      "70101.30197982572\n",
      "40404.38145825513\n",
      "55184.84699156927\n",
      "61197.501107098826\n",
      "68284.50963384082\n",
      "64531.64673461808\n",
      "74799.18300221297\n",
      "76401.76238085805\n",
      "72843.58469462066\n",
      "80361.75743122697\n",
      "78016.1628017457\n",
      "84270.93224469149\n",
      "88779.15426315732\n",
      "89656.12774476917\n",
      "91376.61390432355\n",
      "88567.45215438597\n",
      "93790.78351586063\n",
      "92797.02793990589\n",
      "12176.899998515164\n",
      "41307.87776109788\n",
      "33823.98797161363\n",
      "21497.61446902207\n",
      "35479.84986869881\n",
      "44171.32381832786\n",
      "18180.696052994295\n",
      "20864.945845083006\n",
      "87792.23676684687\n",
      "30971.36479336871\n",
      "49891.67398714094\n",
      "17161.28614263641\n",
      "25722.613505052275\n",
      "20212.341459145107\n",
      "34489.91628398604\n",
      "23444.889386943236\n",
      "29854.13912672093\n",
      "37511.51478450535\n",
      "60554.05383235472\n",
      "47401.29672611867\n",
      "40330.10185520856\n",
      "41396.47137472791\n",
      "52076.692827012215\n",
      "53978.36849239907\n",
      "58637.96826204583\n",
      "74743.55931955152\n",
      "61954.56525654379\n",
      "71463.27952398063\n",
      "71666.27421602163\n",
      "67196.83081997519\n",
      "79030.08851878507\n",
      "74840.84033889629\n",
      "80321.22998408982\n",
      "83372.34104751951\n",
      "85782.98024064746\n",
      "84049.57745905187\n",
      "83310.67767409465\n",
      "89790.56024042759\n",
      "92909.64680983622\n",
      "93161.22680695713\n",
      "26372.547158051682\n",
      "16922.124686210616\n",
      "17925.603451872477\n",
      "30890.071545824183\n",
      "11693.901657865243\n",
      "15995.426774746205\n",
      "17924.8876464769\n",
      "39277.56484105686\n",
      "93938.58852100853\n",
      "23464.81322459524\n",
      "21891.82692971587\n",
      "18082.709625831372\n",
      "25033.978323999294\n",
      "26633.73121158127\n",
      "25288.862372134256\n",
      "23749.444567211005\n",
      "26552.135756046988\n",
      "24895.55448187283\n",
      "34147.63828393867\n",
      "33443.340400405534\n",
      "39932.407240168905\n",
      "74098.44484926363\n",
      "77291.84579821437\n",
      "39247.135270572806\n",
      "51256.28537472653\n",
      "56953.166315095266\n",
      "62106.88318010822\n",
      "64285.02792717375\n",
      "73439.419152257\n",
      "79694.42632385083\n",
      "74226.02998360033\n",
      "82633.11025255552\n",
      "81099.38802235764\n",
      "87017.94543685162\n",
      "91465.55810912563\n",
      "92450.03306175192\n",
      "93366.01065179278\n",
      "91031.51719651744\n",
      "94672.24075120891\n",
      "93293.00900805519\n",
      "17957.865238612292\n",
      "29984.88200656108\n",
      "19623.50885762199\n",
      "20509.147076994155\n",
      "17281.9848884997\n",
      "23761.222196493414\n",
      "11343.72905850144\n",
      "15405.877231312508\n",
      "80550.161901632\n",
      "14601.999506994664\n",
      "28110.8694954879\n",
      "15689.049779935567\n",
      "16906.38568403016\n",
      "23825.20425648395\n",
      "20981.834462966162\n",
      "17986.38545879722\n",
      "24131.876036027126\n",
      "25514.275037301773\n",
      "46458.13124309018\n",
      "35250.40836514135\n",
      "41373.46284235985\n",
      "41873.15976075687\n",
      "52985.19817903764\n",
      "47465.2570662725\n",
      "57521.822629524766\n",
      "69308.61271618525\n",
      "65274.41084531811\n",
      "69976.82603782407\n",
      "75338.95408908393\n",
      "69704.3368550241\n",
      "75208.14663998937\n",
      "77529.78476905357\n",
      "78922.67621492906\n",
      "84430.7153016449\n",
      "86152.2755103041\n",
      "84093.73195996841\n",
      "82090.86673554726\n",
      "87629.86930189263\n",
      "91760.45553068223\n",
      "90178.33284351857\n",
      "8874.116392662405\n",
      "21990.50020528029\n",
      "19976.546737029916\n",
      "15175.03130711524\n",
      "26118.79552998071\n",
      "33027.05066758282\n",
      "14544.814427161391\n",
      "22009.463482043782\n",
      "85057.91410995372\n",
      "26239.528030938043\n",
      "43372.99748876938\n",
      "15521.207819718547\n",
      "21100.502469977397\n",
      "19762.23061241852\n",
      "29967.474152043145\n",
      "22506.05415575528\n",
      "30303.660901312844\n",
      "34591.388570035415\n",
      "57880.77010645559\n",
      "45518.52354652397\n",
      "43218.815806025596\n",
      "45594.031412936645\n",
      "57345.94455077891\n",
      "53842.55913440301\n",
      "60429.7697529974\n",
      "72411.72703799803\n",
      "62157.8356670243\n",
      "70475.11047649008\n",
      "71852.78832337855\n",
      "68851.68961917657\n",
      "78932.45659242403\n",
      "77456.66603813034\n",
      "81419.00101539175\n",
      "84761.96977937124\n",
      "87744.6092665206\n",
      "87307.49107879754\n",
      "84775.29167107286\n",
      "90459.1951300371\n",
      "93465.3295608809\n",
      "93521.24011125324\n",
      "21236.30638778155\n",
      "11035.370303666868\n",
      "10991.460083147007\n",
      "25611.275084038858\n",
      "8458.591833235869\n",
      "13167.736408850542\n",
      "20896.094473717665\n",
      "33801.58472466472\n",
      "96329.03675667816\n",
      "27266.31509022799\n",
      "45315.22450151844\n",
      "17035.155597217727\n",
      "21295.976913300296\n",
      "18242.783588173897\n",
      "31431.853798578097\n",
      "26698.565956050148\n",
      "32242.20109832947\n",
      "34571.26428418965\n",
      "59482.15897670716\n",
      "46875.56431079853\n",
      "44738.91428222151\n",
      "51487.25098368986\n",
      "72453.56796859865\n",
      "54986.80000311278\n",
      "63625.19036758773\n",
      "73611.62313480795\n",
      "67164.87112211234\n",
      "72065.50282879276\n",
      "74169.66522826934\n",
      "76527.41020015175\n",
      "79256.83173646248\n",
      "79893.61166087411\n",
      "81854.25158313251\n",
      "86120.35422470266\n",
      "89374.53067029915\n",
      "90522.17903618218\n",
      "96102.83308093164\n",
      "91182.45093876646\n",
      "95505.49449318505\n",
      "95387.68991572132\n",
      "26673.19862062366\n",
      "12093.876702953585\n",
      "16749.00427480096\n",
      "29289.048343599814\n",
      "17469.219463049998\n",
      "19200.69933504952\n"
     ]
    }
   ],
   "source": [
    "for i in range(len(weight)): \n",
    "    val = calculate_norm(wtest,weight[i])\n",
    "    print val"
   ]
  },
  {
   "cell_type": "code",
   "execution_count": null,
   "metadata": {},
   "outputs": [],
   "source": [
    "for k in range(9):\n",
    "    filenames = os.listdir('images\\\\yaleB0'+str(k+1))\n",
    "    filenames = filenames[3:]"
   ]
  },
  {
   "cell_type": "code",
   "execution_count": 16,
   "metadata": {},
   "outputs": [
    {
     "ename": "NameError",
     "evalue": "name 'weight' is not defined",
     "output_type": "error",
     "traceback": [
      "\u001b[1;31m---------------------------------------------------------------------------\u001b[0m",
      "\u001b[1;31mNameError\u001b[0m                                 Traceback (most recent call last)",
      "\u001b[1;32m<ipython-input-16-39d7b21f262b>\u001b[0m in \u001b[0;36m<module>\u001b[1;34m()\u001b[0m\n\u001b[1;32m----> 1\u001b[1;33m \u001b[0mshape\u001b[0m\u001b[1;33m(\u001b[0m\u001b[0mweight\u001b[0m\u001b[1;33m)\u001b[0m\u001b[1;33m\u001b[0m\u001b[0m\n\u001b[0m",
      "\u001b[1;31mNameError\u001b[0m: name 'weight' is not defined"
     ]
    }
   ],
   "source": [
    "shape(weight)"
   ]
  },
  {
   "cell_type": "code",
   "execution_count": null,
   "metadata": {},
   "outputs": [],
   "source": []
  },
  {
   "cell_type": "code",
   "execution_count": null,
   "metadata": {},
   "outputs": [],
   "source": []
  },
  {
   "cell_type": "code",
   "execution_count": null,
   "metadata": {},
   "outputs": [],
   "source": []
  },
  {
   "cell_type": "code",
   "execution_count": null,
   "metadata": {},
   "outputs": [],
   "source": [
    "\n",
    "        "
   ]
  },
  {
   "cell_type": "code",
   "execution_count": null,
   "metadata": {},
   "outputs": [],
   "source": [
    "\n"
   ]
  },
  {
   "cell_type": "code",
   "execution_count": 95,
   "metadata": {},
   "outputs": [
    {
     "data": {
      "text/plain": [
       "array([80.4       , 81.85      , 83.68888889, ..., 29.80833333,\n",
       "       29.69444444, 30.36944444])"
      ]
     },
     "execution_count": 95,
     "metadata": {},
     "output_type": "execute_result"
    }
   ],
   "source": [
    "mean"
   ]
  },
  {
   "cell_type": "code",
   "execution_count": 94,
   "metadata": {},
   "outputs": [
    {
     "name": "stdout",
     "output_type": "stream",
     "text": [
      "192 168\n"
     ]
    },
    {
     "data": {
      "text/plain": [
       "-1"
      ]
     },
     "execution_count": 94,
     "metadata": {},
     "output_type": "execute_result"
    }
   ],
   "source": [
    "img = cv2.imread('test\\\\yaleB01\\\\yaleB01_7.jpg',0)\n",
    "print img.shape[0],img.shape[1]\n",
    "vart = img.reshape(img.shape[0]*img.shape[1])-mean\n",
    "cv2.imshow('img',img)\n",
    "cv2.waitKey(0)"
   ]
  },
  {
   "cell_type": "code",
   "execution_count": null,
   "metadata": {},
   "outputs": [],
   "source": []
  },
  {
   "cell_type": "code",
   "execution_count": 345,
   "metadata": {},
   "outputs": [],
   "source": [
    "\n"
   ]
  },
  {
   "cell_type": "code",
   "execution_count": null,
   "metadata": {},
   "outputs": [],
   "source": [
    "\n"
   ]
  },
  {
   "cell_type": "code",
   "execution_count": null,
   "metadata": {},
   "outputs": [],
   "source": []
  },
  {
   "cell_type": "code",
   "execution_count": null,
   "metadata": {},
   "outputs": [],
   "source": []
  },
  {
   "cell_type": "code",
   "execution_count": null,
   "metadata": {},
   "outputs": [],
   "source": []
  }
 ],
 "metadata": {
  "kernelspec": {
   "display_name": "Python 2",
   "language": "python",
   "name": "python2"
  }
 },
 "nbformat": 4,
 "nbformat_minor": 2
}
