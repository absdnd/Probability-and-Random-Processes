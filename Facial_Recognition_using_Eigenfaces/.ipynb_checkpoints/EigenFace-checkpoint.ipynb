{
 "cells": [
  {
   "cell_type": "code",
   "execution_count": 17,
   "metadata": {},
   "outputs": [],
   "source": [
    "import cv2\n",
    "from numpy import *\n",
    "import os"
   ]
  },
  {
   "cell_type": "code",
   "execution_count": 18,
   "metadata": {},
   "outputs": [],
   "source": [
    "#Normalize the eigenvector.\n",
    "def normalize(eig_vec): \n",
    "    norm = linalg.norm(eig_vec)\n",
    "    return eig_vec/norm"
   ]
  },
  {
   "cell_type": "code",
   "execution_count": 19,
   "metadata": {},
   "outputs": [],
   "source": [
    "#The training images are obtained for \n",
    "#p = a given number of people \n",
    "#n = no of people per class\n",
    "def TrainingImages(p,n):\n",
    "    images = []\n",
    "    for i in range(p):\n",
    "        images.append([])\n",
    "        filenames = os.listdir('Georgia\\\\'+str(i+1))\n",
    "        for j in range(len(filenames)): \n",
    "            img = cv2.imread('Georgia\\\\'+str(i+1)+'\\\\'+filenames[j],0)\n",
    "            img = cv2.resize(img,(150,150))\n",
    "            img = img.reshape(img.shape[0]*img.shape[1])\n",
    "            images[i].append(img)\n",
    "    return images\n",
    "    \n",
    "    \n",
    "\n"
   ]
  },
  {
   "cell_type": "code",
   "execution_count": 20,
   "metadata": {},
   "outputs": [],
   "source": [
    "#Testing images for \n",
    "#p = no of people \n",
    "#n = no of people per class\n",
    "def TestingImages(p,n):\n",
    "    images = []\n",
    "    for i in range(p):\n",
    "        images.append([])\n",
    "        filenames = os.listdir('Georgia\\\\'+str(i+1)+'_')\n",
    "        for j in range(len(filenames)): \n",
    "            img = cv2.imread('Georgia\\\\'+str(i+1)+'_\\\\'+filenames[j],0)\n",
    "            img = cv2.resize(img,(150,150))\n",
    "            img = img.reshape(img.shape[0]*img.shape[1])\n",
    "            images[i].append(img)\n",
    "    return images"
   ]
  },
  {
   "cell_type": "code",
   "execution_count": 21,
   "metadata": {},
   "outputs": [],
   "source": [
    "#Calculating the mean face of the images in database. \n",
    "def meanface(images,p,n): \n",
    "    rows = shape(images[0][0])[0]\n",
    "    mean = zeros(rows,dtype = 'float64')\n",
    "    for i in range(p):\n",
    "        for j in range(n):\n",
    "        \n",
    "            mean = mean + images[i][j]\n",
    "            \n",
    "    mean = mean/(p*n)\n",
    "    mean = asarray(mean) \n",
    "    return mean"
   ]
  },
  {
   "cell_type": "code",
   "execution_count": 22,
   "metadata": {},
   "outputs": [],
   "source": [
    "#Calculating the norm of a-b\n",
    "def calculate_norm(a,b): \n",
    "    return linalg.norm(a-b)\n"
   ]
  },
  {
   "cell_type": "code",
   "execution_count": 23,
   "metadata": {},
   "outputs": [],
   "source": [
    "#Computing the variance matrix and array from the mean. \n",
    "def variance_mat(mean,images,p,n): \n",
    "    rows= shape(images[0][0])[0]\n",
    "    var_mat = zeros([rows,p*n],dtype = 'float64')\n",
    "    var = []\n",
    "    for i in range(p):\n",
    "        for j in range(n):\n",
    "            var.append(asarray(images[i][j])-mean)\n",
    "        \n",
    "    #Now we create the variance matrix from this information \n",
    "    for i in range(p*n): \n",
    "        var_mat[:,i] = asarray(var[i]).T\n",
    "    \n",
    "    return var_mat,var\n",
    "    "
   ]
  },
  {
   "cell_type": "code",
   "execution_count": 24,
   "metadata": {},
   "outputs": [],
   "source": [
    "#Normalizing every row of the matrix \n",
    "def normalize_mat(mat): \n",
    "    normalized = []\n",
    "    for i in mat: \n",
    "        normalized.append(normalize(i))\n",
    "    return normalized\n",
    "    "
   ]
  },
  {
   "cell_type": "code",
   "execution_count": null,
   "metadata": {},
   "outputs": [],
   "source": []
  },
  {
   "cell_type": "code",
   "execution_count": 25,
   "metadata": {},
   "outputs": [],
   "source": [
    "#Obtaining the weights from normalized eigenvectors,no of people and the variance list. \n",
    "def weights(normalized,p,n,var): \n",
    "    weight_no = len(normalized)\n",
    "    weight = zeros([p*n,weight_no])\n",
    "    for i in range(p*n): \n",
    "        vara = var[i]\n",
    "        for j in range(len(normalized)):\n",
    "            weight[i,j]  = dot(vara,normalized[j])\n",
    "    return weight\n",
    "        "
   ]
  },
  {
   "cell_type": "code",
   "execution_count": 26,
   "metadata": {},
   "outputs": [],
   "source": [
    "#Computing the median weight for each class .\n",
    "def weight_median(weight,p,n): \n",
    "    weight_med = zeros([p,shape(weight)[1]])\n",
    "    for i in range(p): \n",
    "        for j in range(shape(weight)[1]):\n",
    "            \n",
    "            weight_med[i,j] = median([weight[n*i:n*i+n,j]])\n",
    "    return weight_med\n",
    "        \n"
   ]
  },
  {
   "cell_type": "code",
   "execution_count": 27,
   "metadata": {},
   "outputs": [],
   "source": [
    "#Training of the Images\n",
    "def train(p,n,no):\n",
    "    images = TrainingImages(p,n)\n",
    "    mean = meanface(images,p,n)\n",
    "    var_mat,var = variance_mat(mean, images,p,n)\n",
    "    covariance = dot(var_mat.T,var_mat)\n",
    "\n",
    "    eigval, eigvec = linalg.eig(covariance)\n",
    "\n",
    "    idx = eigval.argsort()[::-1]   \n",
    "\n",
    "\n",
    "    eigval = eigval[idx]\n",
    "    eigvec = eigvec[:,idx]\n",
    "\n",
    "\n",
    "    eigvec_final = ((dot(var_mat,eigvec.T)).T)[:no,:]\n",
    "\n",
    "\n",
    "    normalized = normalize_mat(eigvec_final)\n",
    "    weight = weights(normalized,p,n,var)\n",
    "\n",
    "    weight_med = weight_median(weight,p,n)\n",
    "    \n",
    "    return weight_med,normalized,mean\n",
    "\n",
    "    \n",
    "\n",
    "\n",
    "\n"
   ]
  },
  {
   "cell_type": "code",
   "execution_count": 28,
   "metadata": {},
   "outputs": [],
   "source": [
    "#Testing of the images. \n",
    "def test(p,threshold,ptest,ntest,normalized,weight_med,no,mean):\n",
    "  \n",
    "    test_images  = TestingImages(ptest,ntest)\n",
    "    outlier = 0.\n",
    "    outlier_cnt = 0.\n",
    "    correct_matches = 0.\n",
    "    for i in range(ptest): \n",
    "        for j in range(ntest): \n",
    "            vart = test_images[i][j]-mean\n",
    "            wtest = zeros(no)\n",
    "            for k in range(len(normalized)):\n",
    "                wtest[k] = dot(normalized[k],vart)\n",
    "            \n",
    "            mini = 500000000000\n",
    "            loc = 0\n",
    "            for m in range(len(weight_med)):\n",
    "                val = calculate_norm(wtest,weight_med[m])\n",
    "\n",
    "                if(val<mini): \n",
    "                    mini = val\n",
    "                    loc = m\n",
    "\n",
    "\n",
    "\n",
    "            prediction = loc\n",
    "            correct = i\n",
    "            if(i+1>p):\n",
    "                outlier_cnt+=1\n",
    "            if(mini<threshold):\n",
    "                if(prediction==correct):\n",
    "                    correct_matches+=1\n",
    "                \n",
    "                    \n",
    "            else: \n",
    "                if(i+1>p):\n",
    "                    correct_matches+=1\n",
    "                    outlier+=1\n",
    "                    \n",
    "               \n",
    "            \n",
    "                \n",
    "\n",
    "\n",
    "    print \"outlier detected\",outlier\n",
    "    print \"actual outlier\",outlier_cnt\n",
    "    print \"correct matches\", correct_matches\n",
    "    print \"total number of people\",ptest*ntest\n",
    "    print \"accuracy is\",(correct_matches)/(ptest*ntest)*100\n",
    "\n",
    "\n",
    "        \n",
    "                \n",
    "            \n",
    "    \n",
    "            \n",
    "        "
   ]
  },
  {
   "cell_type": "code",
   "execution_count": 29,
   "metadata": {},
   "outputs": [
    {
     "name": "stdout",
     "output_type": "stream",
     "text": [
      "outlier detected 5.0\n",
      "actual outlier 6.0\n",
      "correct matches 24.0\n",
      "total number of people 30\n",
      "accuracy is 80.0\n"
     ]
    }
   ],
   "source": [
    "#The number of people for testing and training\n",
    "#The outlier threshold has also been set.\n",
    "p,n = 8,12 \n",
    "ptest,ntest = 10,3 \n",
    "threshold = 9000\n",
    "no  =  50\n",
    "weight_med, normalized,mean = train(p,n,no)\n",
    "test(p,threshold,ptest,ntest,normalized,weight_med,no,mean)"
   ]
  },
  {
   "cell_type": "code",
   "execution_count": null,
   "metadata": {},
   "outputs": [],
   "source": []
  },
  {
   "cell_type": "code",
   "execution_count": null,
   "metadata": {},
   "outputs": [],
   "source": []
  },
  {
   "cell_type": "code",
   "execution_count": null,
   "metadata": {},
   "outputs": [],
   "source": []
  },
  {
   "cell_type": "code",
   "execution_count": null,
   "metadata": {},
   "outputs": [],
   "source": [
    "\n",
    "\n"
   ]
  },
  {
   "cell_type": "code",
   "execution_count": null,
   "metadata": {},
   "outputs": [],
   "source": []
  },
  {
   "cell_type": "code",
   "execution_count": null,
   "metadata": {},
   "outputs": [],
   "source": []
  },
  {
   "cell_type": "code",
   "execution_count": null,
   "metadata": {},
   "outputs": [],
   "source": [
    "\n"
   ]
  },
  {
   "cell_type": "code",
   "execution_count": null,
   "metadata": {},
   "outputs": [],
   "source": []
  },
  {
   "cell_type": "code",
   "execution_count": null,
   "metadata": {},
   "outputs": [],
   "source": []
  },
  {
   "cell_type": "code",
   "execution_count": null,
   "metadata": {},
   "outputs": [],
   "source": []
  },
  {
   "cell_type": "code",
   "execution_count": null,
   "metadata": {},
   "outputs": [],
   "source": []
  },
  {
   "cell_type": "code",
   "execution_count": null,
   "metadata": {},
   "outputs": [],
   "source": []
  },
  {
   "cell_type": "code",
   "execution_count": null,
   "metadata": {},
   "outputs": [],
   "source": []
  },
  {
   "cell_type": "code",
   "execution_count": null,
   "metadata": {},
   "outputs": [],
   "source": []
  },
  {
   "cell_type": "code",
   "execution_count": null,
   "metadata": {},
   "outputs": [],
   "source": []
  },
  {
   "cell_type": "code",
   "execution_count": null,
   "metadata": {},
   "outputs": [],
   "source": []
  },
  {
   "cell_type": "code",
   "execution_count": null,
   "metadata": {},
   "outputs": [],
   "source": []
  },
  {
   "cell_type": "code",
   "execution_count": null,
   "metadata": {},
   "outputs": [],
   "source": []
  },
  {
   "cell_type": "code",
   "execution_count": null,
   "metadata": {},
   "outputs": [],
   "source": []
  },
  {
   "cell_type": "code",
   "execution_count": null,
   "metadata": {},
   "outputs": [],
   "source": []
  },
  {
   "cell_type": "code",
   "execution_count": null,
   "metadata": {},
   "outputs": [],
   "source": [
    "\n"
   ]
  },
  {
   "cell_type": "code",
   "execution_count": null,
   "metadata": {},
   "outputs": [],
   "source": []
  },
  {
   "cell_type": "code",
   "execution_count": null,
   "metadata": {},
   "outputs": [],
   "source": [
    "\n"
   ]
  },
  {
   "cell_type": "code",
   "execution_count": null,
   "metadata": {},
   "outputs": [],
   "source": [
    "\n",
    "            "
   ]
  },
  {
   "cell_type": "code",
   "execution_count": null,
   "metadata": {},
   "outputs": [],
   "source": []
  },
  {
   "cell_type": "code",
   "execution_count": null,
   "metadata": {},
   "outputs": [],
   "source": []
  },
  {
   "cell_type": "code",
   "execution_count": null,
   "metadata": {},
   "outputs": [],
   "source": []
  },
  {
   "cell_type": "code",
   "execution_count": null,
   "metadata": {},
   "outputs": [],
   "source": []
  },
  {
   "cell_type": "code",
   "execution_count": null,
   "metadata": {},
   "outputs": [],
   "source": []
  },
  {
   "cell_type": "code",
   "execution_count": null,
   "metadata": {},
   "outputs": [],
   "source": []
  },
  {
   "cell_type": "code",
   "execution_count": null,
   "metadata": {},
   "outputs": [],
   "source": []
  },
  {
   "cell_type": "code",
   "execution_count": null,
   "metadata": {},
   "outputs": [],
   "source": []
  },
  {
   "cell_type": "code",
   "execution_count": null,
   "metadata": {},
   "outputs": [],
   "source": []
  },
  {
   "cell_type": "code",
   "execution_count": null,
   "metadata": {},
   "outputs": [],
   "source": []
  },
  {
   "cell_type": "code",
   "execution_count": null,
   "metadata": {},
   "outputs": [],
   "source": []
  },
  {
   "cell_type": "code",
   "execution_count": null,
   "metadata": {},
   "outputs": [],
   "source": [
    "\n",
    "        "
   ]
  },
  {
   "cell_type": "code",
   "execution_count": null,
   "metadata": {},
   "outputs": [],
   "source": [
    "\n"
   ]
  },
  {
   "cell_type": "code",
   "execution_count": null,
   "metadata": {},
   "outputs": [],
   "source": []
  },
  {
   "cell_type": "code",
   "execution_count": null,
   "metadata": {},
   "outputs": [],
   "source": []
  },
  {
   "cell_type": "code",
   "execution_count": null,
   "metadata": {},
   "outputs": [],
   "source": []
  },
  {
   "cell_type": "code",
   "execution_count": 345,
   "metadata": {},
   "outputs": [],
   "source": [
    "\n"
   ]
  },
  {
   "cell_type": "code",
   "execution_count": null,
   "metadata": {},
   "outputs": [],
   "source": [
    "\n"
   ]
  },
  {
   "cell_type": "code",
   "execution_count": null,
   "metadata": {},
   "outputs": [],
   "source": []
  },
  {
   "cell_type": "code",
   "execution_count": null,
   "metadata": {},
   "outputs": [],
   "source": []
  },
  {
   "cell_type": "code",
   "execution_count": null,
   "metadata": {},
   "outputs": [],
   "source": []
  }
 ],
 "metadata": {
  "kernelspec": {
   "display_name": "Python 2",
   "language": "python",
   "name": "python2"
  },
  "language_info": {
   "codemirror_mode": {
    "name": "ipython",
    "version": 2
   },
   "file_extension": ".py",
   "mimetype": "text/x-python",
   "name": "python",
   "nbconvert_exporter": "python",
   "pygments_lexer": "ipython2",
   "version": "2.7.15"
  }
 },
 "nbformat": 4,
 "nbformat_minor": 2
}
